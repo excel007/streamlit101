{
 "cells": [
  {
   "cell_type": "code",
   "execution_count": null,
   "metadata": {},
   "outputs": [],
   "source": [
    "#use for education only\n",
    "#https://en.wikipedia.org/wiki/Web_scraping"
   ]
  },
  {
   "cell_type": "code",
   "execution_count": 1,
   "metadata": {},
   "outputs": [],
   "source": [
    "from selenium import webdriver\n",
    "from selenium.webdriver import ActionChains , DesiredCapabilities\n",
    "from selenium.webdriver.chrome.service import Service \n",
    "from webdriver_manager.chrome import ChromeDriverManager\n",
    "from selenium.webdriver.chrome.options import Options\n",
    "from selenium.webdriver.common.by import By\n",
    "from selenium.webdriver.common.keys import Keys\n",
    "import time\n",
    "import bs4\n",
    "from random import randint\n",
    "import pandas as pd"
   ]
  },
  {
   "cell_type": "code",
   "execution_count": 2,
   "metadata": {},
   "outputs": [],
   "source": [
    "options = Options()\n",
    "options.add_experimental_option(\"detach\",True) #fix  Automatically & Immediately After Test Without Calling Quit or Close"
   ]
  },
  {
   "cell_type": "code",
   "execution_count": 3,
   "metadata": {},
   "outputs": [],
   "source": [
    "driver = webdriver.Chrome(service=Service(ChromeDriverManager().install()), options=options)"
   ]
  },
  {
   "cell_type": "code",
   "execution_count": 11,
   "metadata": {},
   "outputs": [],
   "source": [
    "driver.get(\"https://en.wikipedia.org/wiki/Web_scraping\")"
   ]
  },
  {
   "cell_type": "code",
   "execution_count": 12,
   "metadata": {},
   "outputs": [],
   "source": [
    "data = driver.page_source"
   ]
  },
  {
   "cell_type": "code",
   "execution_count": 13,
   "metadata": {},
   "outputs": [],
   "source": [
    "soup = bs4.BeautifulSoup(data)"
   ]
  },
  {
   "cell_type": "code",
   "execution_count": 61,
   "metadata": {},
   "outputs": [],
   "source": [
    "references = soup.find_all('span',{'class':'reference-text'})"
   ]
  },
  {
   "cell_type": "code",
   "execution_count": 62,
   "metadata": {},
   "outputs": [
    {
     "name": "stdout",
     "output_type": "stream",
     "text": [
      "Thapelo, Tsaone Swaabow; Namoshe, Molaletsa; Matsebe, Oduetse; Motshegwa, Tshiamo; Bopape, Mary-Jane Morongwa (2021-07-28). \"SASSCAL WebSAPI: A Web Scraping Application Programming Interface to Support Access to SASSCAL's Weather Data\". Data Science Journal. 20: 24. doi:10.5334/dsj-2021-024. ISSN 1683-1470. S2CID 237719804.\n",
      "\"Search Engine History.com\". Search Engine History. Retrieved November 26, 2019.\n",
      "Song, Ruihua; Microsoft Research (Sep 14, 2007). \"Joint Optimization of Wrapper Generation and Template Detection\" (PDF). The 13th International Conference on Knowledge Discovery and Data Mining: 894. doi:10.1145/1281192.1281287. ISBN 9781595936097. S2CID 833565. Archived from the original (PDF) on October 11, 2016.\n",
      "Semantic annotation based web scraping\n",
      "Roush, Wade (2012-07-25). \"Diffbot Is Using Computer Vision to Reinvent the Semantic Web\". www.xconomy.com. Retrieved 2013-03-15.\n",
      "\"FAQ about linking – Are website terms of use binding contracts?\". www.chillingeffects.org. 2007-08-20. Archived from the original on 2002-03-08. Retrieved 2007-08-20.\n",
      "Kenneth, Hirschey, Jeffrey (2014-01-01). \"Symbiotic Relationships: Pragmatic Acceptance of Data Scraping\". Berkeley Technology Law Journal. 29 (4). doi:10.15779/Z38B39B. ISSN 1086-3818.\n",
      "\"Internet Law, Ch. 06: Trespass to Chattels\". www.tomwbell.com. 2007-08-20. Retrieved 2007-08-20.\n",
      "\"What are the \"trespass to chattels\" claims some companies or website owners have brought?\". www.chillingeffects.org. 2007-08-20. Archived from the original on 2002-03-08. Retrieved 2007-08-20.\n",
      "\"Ticketmaster Corp. v. Tickets.com, Inc\". 2007-08-20. Retrieved 2007-08-20.\n",
      "\"American Airlines v. FareChase\" (PDF). 2007-08-20. Archived from the original (PDF) on 2011-07-23. Retrieved 2007-08-20.\n",
      "\"American Airlines, FareChase Settle Suit\". The Free Library. 2003-06-13. Retrieved 2012-02-26.\n",
      "Imperva (2011). Detecting and Blocking Site Scraping Attacks. Imperva white paper.\n",
      "Adler, Kenneth A. (2003-07-29). \"Controversy Surrounds 'Screen Scrapers': Software Helps Users Access Web Sites But Activity by Competitors Comes Under Scrutiny\". Archived from the original on 2011-02-11. Retrieved 2010-10-27.\n",
      "\"QVC Inc. v. Resultly LLC, No. 14-06714 (E.D. Pa. filed Nov. 24, 2014)\" (PDF). 2014-11-24. Retrieved 2015-11-05.\n",
      "\"QVC Inc. v. Resultly LLC, No. 14-06714 (E.D. Pa. filed Nov. 24, 2014)\". United States District Court for the Eastern District of Pennsylvania. Retrieved 5 November 2015.\n",
      "Neuburger, Jeffrey D (5 December 2014). \"QVC Sues Shopping App for Web Scraping That Allegedly Triggered Site Outage\". The National Law Review. Proskauer Rose LLP. Retrieved 5 November 2015.\n",
      "\"Did Iqbal/Twombly Raise the Bar for Browsewrap Claims?\" (PDF). 2010-09-17. Retrieved 2010-10-27.\n",
      "\"Can Scraping Non-Infringing Content Become Copyright Infringement... Because Of How Scrapers Work? | Techdirt\". Techdirt. 2009-06-10. Retrieved 2016-05-24.\n",
      "\"Facebook v. Power Ventures\". Electronic Frontier Foundation. Retrieved 2016-05-24.\n",
      "\"UDSKRIFT AF SØ- & HANDELSRETTENS DOMBOG\" (PDF) (in Danish). bvhd.dk. 2006-02-24. Archived from the original (PDF) on 2007-10-12. Retrieved 2007-05-30.\n",
      "\"High Court of Ireland Decisions >> Ryanair Ltd -v- Billigfluege.de GMBH 2010 IEHC 47 (26 February 2010)\". British and Irish Legal Information Institute. 2010-02-26. Retrieved 2012-04-19.\n",
      "Matthews, Áine (June 2010). \"Intellectual Property: Website Terms of Use\". Issue 26: June 2010. LK Shields Solicitors Update. p. 03. Retrieved 2012-04-19.\n",
      "\"La réutilisation des données publiquement accessibles en ligne à des fins de démarchage commercial | CNIL\". www.cnil.fr (in French). Retrieved 2020-07-05.\n",
      "FindDataLab.com (2020-06-09). \"Can You Still Perform Web Scraping With The New CNIL Guidelines?\". Medium. Retrieved 2020-07-05.\n",
      "National Office for the Information Economy (February 2004). \"Spam Act 2003: An overview for business\". Australian Communications Authority. p. 6. Retrieved 2017-12-07.\n",
      "National Office for the Information Economy (February 2004). \"Spam Act 2003: A practical guide for business\" (PDF). Australian Communications Authority. p. 20. Retrieved 2017-12-07.\n",
      "Mayank Dhiman Breaking Fraud & Bot Detection Solutions OWASP AppSec Cali' 2018 Retrieved February 10, 2018.\n"
     ]
    }
   ],
   "source": [
    "reference_list = []\n",
    "for reference in references:\n",
    "    print(reference.text)\n",
    "    reference_list.append(reference.text)"
   ]
  },
  {
   "cell_type": "code",
   "execution_count": 65,
   "metadata": {},
   "outputs": [],
   "source": [
    "reference_data = pd.DataFrame([reference_list])"
   ]
  },
  {
   "cell_type": "code",
   "execution_count": 66,
   "metadata": {},
   "outputs": [],
   "source": [
    "reference_data = reference_data.transpose()"
   ]
  },
  {
   "cell_type": "code",
   "execution_count": 67,
   "metadata": {},
   "outputs": [],
   "source": [
    "reference_data.columns = ['ref.']"
   ]
  },
  {
   "cell_type": "code",
   "execution_count": 69,
   "metadata": {},
   "outputs": [],
   "source": [
    "reference_data.to_csv('wiki_ref.csv')"
   ]
  }
 ],
 "metadata": {
  "kernelspec": {
   "display_name": "Python 3",
   "language": "python",
   "name": "python3"
  },
  "language_info": {
   "codemirror_mode": {
    "name": "ipython",
    "version": 3
   },
   "file_extension": ".py",
   "mimetype": "text/x-python",
   "name": "python",
   "nbconvert_exporter": "python",
   "pygments_lexer": "ipython3",
   "version": "3.8.3"
  }
 },
 "nbformat": 4,
 "nbformat_minor": 4
}
