{
 "cells": [
  {
   "cell_type": "code",
   "execution_count": 1,
   "metadata": {},
   "outputs": [],
   "source": [
    "from sklearn.datasets import load_iris\n",
    "from sklearn.tree import DecisionTreeClassifier"
   ]
  },
  {
   "cell_type": "code",
   "execution_count": 2,
   "metadata": {},
   "outputs": [],
   "source": [
    "# Load the Iris dataset\n",
    "data = load_iris()\n",
    "X = data.data\n",
    "y = data.target"
   ]
  },
  {
   "cell_type": "code",
   "execution_count": 3,
   "metadata": {},
   "outputs": [
    {
     "data": {
      "text/plain": [
       "DecisionTreeClassifier()"
      ]
     },
     "execution_count": 3,
     "metadata": {},
     "output_type": "execute_result"
    }
   ],
   "source": [
    "# Train the decision tree\n",
    "tree = DecisionTreeClassifier()\n",
    "tree.fit(X, y)"
   ]
  },
  {
   "cell_type": "code",
   "execution_count": 5,
   "metadata": {},
   "outputs": [],
   "source": [
    "# Define the Streamlit app\n",
    "def predict_species(sepal_length, sepal_width, petal_length, petal_width):\n",
    "    # Use the trained decision tree to make predictions\n",
    "    X_new = [[sepal_length, sepal_width, petal_length, petal_width]]\n",
    "    prediction = tree.predict(X_new)\n",
    "    species = data.target_names[prediction[0]]\n",
    "    return species"
   ]
  },
  {
   "cell_type": "code",
   "execution_count": 7,
   "metadata": {},
   "outputs": [],
   "source": [
    "import streamlit as st\n",
    "\n",
    "st.title(\"Iris Species Prediction App\")\n",
    "st.markdown(\"Enter the following parameters to predict the species:\")\n",
    "\n",
    "sepal_length = st.slider(\"Sepal Length\", 4.0, 8.0, 5.0, 0.1)\n",
    "sepal_width = st.slider(\"Sepal Width\", 2.0, 4.5, 3.0, 0.1)\n",
    "petal_length = st.slider(\"Petal Length\", 1.0, 7.0, 4.0, 0.1)\n",
    "petal_width = st.slider(\"Petal Width\", 0.1, 2.5, 1.0, 0.1)\n",
    "\n",
    "if st.button(\"Predict\"):\n",
    "    species = predict_species(sepal_length, sepal_width, petal_length, petal_width)\n",
    "    st.success(f\"The predicted species is {species}.\")"
   ]
  },
  {
   "cell_type": "code",
   "execution_count": null,
   "metadata": {},
   "outputs": [],
   "source": []
  }
 ],
 "metadata": {
  "kernelspec": {
   "display_name": "Python 3",
   "language": "python",
   "name": "python3"
  },
  "language_info": {
   "codemirror_mode": {
    "name": "ipython",
    "version": 3
   },
   "file_extension": ".py",
   "mimetype": "text/x-python",
   "name": "python",
   "nbconvert_exporter": "python",
   "pygments_lexer": "ipython3",
   "version": "3.8.3"
  }
 },
 "nbformat": 4,
 "nbformat_minor": 4
}
